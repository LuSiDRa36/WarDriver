{
 "cells": [
  {
   "cell_type": "code",
   "execution_count": 6,
   "metadata": {},
   "outputs": [],
   "source": [
    "import pandas as pd\n",
    "import folium"
   ]
  },
  {
   "cell_type": "code",
   "execution_count": 9,
   "metadata": {},
   "outputs": [],
   "source": [
    "d1 = pd.read_csv('warDriver3.csv', delimiter = ',', encoding='latin-1', header=1)"
   ]
  },
  {
   "cell_type": "code",
   "execution_count": 19,
   "metadata": {},
   "outputs": [
    {
     "data": {
      "text/html": [
       "<div>\n",
       "<style scoped>\n",
       "    .dataframe tbody tr th:only-of-type {\n",
       "        vertical-align: middle;\n",
       "    }\n",
       "\n",
       "    .dataframe tbody tr th {\n",
       "        vertical-align: top;\n",
       "    }\n",
       "\n",
       "    .dataframe thead th {\n",
       "        text-align: right;\n",
       "    }\n",
       "</style>\n",
       "<table border=\"1\" class=\"dataframe\">\n",
       "  <thead>\n",
       "    <tr style=\"text-align: right;\">\n",
       "      <th></th>\n",
       "      <th>MAC</th>\n",
       "      <th>SSID</th>\n",
       "      <th>AuthMode</th>\n",
       "      <th>FirstSeen</th>\n",
       "      <th>Channel</th>\n",
       "      <th>RSSI</th>\n",
       "      <th>CurrentLatitude</th>\n",
       "      <th>CurrentLongitude</th>\n",
       "      <th>AltitudeMeters</th>\n",
       "      <th>AccuracyMeters</th>\n",
       "      <th>Type</th>\n",
       "    </tr>\n",
       "  </thead>\n",
       "  <tbody>\n",
       "    <tr>\n",
       "      <th>0</th>\n",
       "      <td>74:85:2a:d1:62:e0</td>\n",
       "      <td>NSAhunniPOT</td>\n",
       "      <td>[WPA2-PSK-CCMP][RSN-PSK-CCMP][ESS]</td>\n",
       "      <td>2020-08-08 07:17:25</td>\n",
       "      <td>36</td>\n",
       "      <td>-48</td>\n",
       "      <td>47.56131</td>\n",
       "      <td>-122.387149</td>\n",
       "      <td>107.787354</td>\n",
       "      <td>6.432</td>\n",
       "      <td>WIFI</td>\n",
       "    </tr>\n",
       "    <tr>\n",
       "      <th>2</th>\n",
       "      <td>8a:85:2a:d1:62:e0</td>\n",
       "      <td>XFINITY</td>\n",
       "      <td>[WPA2-EAP-CCMP][RSN-EAP-CCMP][ESS]</td>\n",
       "      <td>2020-08-08 07:17:25</td>\n",
       "      <td>36</td>\n",
       "      <td>-48</td>\n",
       "      <td>47.56131</td>\n",
       "      <td>-122.387149</td>\n",
       "      <td>107.787354</td>\n",
       "      <td>6.432</td>\n",
       "      <td>WIFI</td>\n",
       "    </tr>\n",
       "    <tr>\n",
       "      <th>5</th>\n",
       "      <td>74:85:2a:d1:62:d8</td>\n",
       "      <td>NSAhunniPOT</td>\n",
       "      <td>[WPA2-PSK-CCMP][RSN-PSK-CCMP][ESS]</td>\n",
       "      <td>2020-08-08 07:17:25</td>\n",
       "      <td>11</td>\n",
       "      <td>-50</td>\n",
       "      <td>47.56131</td>\n",
       "      <td>-122.387149</td>\n",
       "      <td>107.787354</td>\n",
       "      <td>6.432</td>\n",
       "      <td>WIFI</td>\n",
       "    </tr>\n",
       "    <tr>\n",
       "      <th>6</th>\n",
       "      <td>7e:85:2a:d1:62:d8</td>\n",
       "      <td>xfinitywifi</td>\n",
       "      <td>[ESS]</td>\n",
       "      <td>2020-08-08 07:17:25</td>\n",
       "      <td>6</td>\n",
       "      <td>-50</td>\n",
       "      <td>47.56131</td>\n",
       "      <td>-122.387149</td>\n",
       "      <td>107.787354</td>\n",
       "      <td>6.432</td>\n",
       "      <td>WIFI</td>\n",
       "    </tr>\n",
       "    <tr>\n",
       "      <th>10</th>\n",
       "      <td>0a:a6:bc:af:dc:e4</td>\n",
       "      <td>DIRECT-An-FireTV_cd6a</td>\n",
       "      <td>[WPA2-PSK-CCMP][RSN-PSK-CCMP][ESS][WPS]</td>\n",
       "      <td>2020-08-08 07:17:25</td>\n",
       "      <td>153</td>\n",
       "      <td>-54</td>\n",
       "      <td>47.56131</td>\n",
       "      <td>-122.387149</td>\n",
       "      <td>107.787354</td>\n",
       "      <td>6.432</td>\n",
       "      <td>WIFI</td>\n",
       "    </tr>\n",
       "  </tbody>\n",
       "</table>\n",
       "</div>"
      ],
      "text/plain": [
       "                  MAC                   SSID  \\\n",
       "0   74:85:2a:d1:62:e0            NSAhunniPOT   \n",
       "2   8a:85:2a:d1:62:e0                XFINITY   \n",
       "5   74:85:2a:d1:62:d8            NSAhunniPOT   \n",
       "6   7e:85:2a:d1:62:d8            xfinitywifi   \n",
       "10  0a:a6:bc:af:dc:e4  DIRECT-An-FireTV_cd6a   \n",
       "\n",
       "                                   AuthMode            FirstSeen  Channel  \\\n",
       "0        [WPA2-PSK-CCMP][RSN-PSK-CCMP][ESS]  2020-08-08 07:17:25       36   \n",
       "2        [WPA2-EAP-CCMP][RSN-EAP-CCMP][ESS]  2020-08-08 07:17:25       36   \n",
       "5        [WPA2-PSK-CCMP][RSN-PSK-CCMP][ESS]  2020-08-08 07:17:25       11   \n",
       "6                                     [ESS]  2020-08-08 07:17:25        6   \n",
       "10  [WPA2-PSK-CCMP][RSN-PSK-CCMP][ESS][WPS]  2020-08-08 07:17:25      153   \n",
       "\n",
       "    RSSI  CurrentLatitude  CurrentLongitude  AltitudeMeters  AccuracyMeters  \\\n",
       "0    -48         47.56131       -122.387149      107.787354           6.432   \n",
       "2    -48         47.56131       -122.387149      107.787354           6.432   \n",
       "5    -50         47.56131       -122.387149      107.787354           6.432   \n",
       "6    -50         47.56131       -122.387149      107.787354           6.432   \n",
       "10   -54         47.56131       -122.387149      107.787354           6.432   \n",
       "\n",
       "    Type  \n",
       "0   WIFI  \n",
       "2   WIFI  \n",
       "5   WIFI  \n",
       "6   WIFI  \n",
       "10  WIFI  "
      ]
     },
     "execution_count": 19,
     "metadata": {},
     "output_type": "execute_result"
    }
   ],
   "source": [
    "#Get rid of NAN values and get rid of non Wi-Fi networks\n",
    "    \n",
    "df = d1\n",
    "valid = []\n",
    "## Grab all Wi-Fi nets in a list called Valid\n",
    "for rows in df[['MAC', 'SSID', 'AuthMode', 'FirstSeen', 'Channel', 'RSSI', 'CurrentLatitude', 'CurrentLongitude', 'AltitudeMeters', 'AccuracyMeters', 'Type']].values:\n",
    "    if (rows[10] == 'WIFI'):\n",
    "        valid.append(rows)\n",
    "## Create dataframe after dropping NAN's\n",
    "validframes = pd.DataFrame(valid).dropna()\n",
    "validframes.columns = ['MAC', 'SSID', 'AuthMode', 'FirstSeen', 'Channel', 'RSSI', 'CurrentLatitude', 'CurrentLongitude', 'AltitudeMeters', 'AccuracyMeters', 'Type']\n",
    "validframes.head()"
   ]
  },
  {
   "cell_type": "code",
   "execution_count": 20,
   "metadata": {},
   "outputs": [],
   "source": [
    "valid = []\n",
    "for rows in df[['MAC', 'SSID', 'AuthMode', 'FirstSeen', 'Channel', 'RSSI', 'CurrentLatitude', 'CurrentLongitude', 'AltitudeMeters', 'AccuracyMeters', 'Type']].values:\n",
    "    if (rows[10] == 'WIFI'):\n",
    "        valid.append(rows)"
   ]
  },
  {
   "cell_type": "code",
   "execution_count": 21,
   "metadata": {},
   "outputs": [],
   "source": [
    "mymap = folium.Map( location=[47.708340, -116.949312], zoom_start=12)\n",
    "for coord in validframes[['CurrentLatitude','CurrentLongitude', 'SSID', 'Type']].values:\n",
    "    if (\"?\" not in str(coord[0])) and (\"?\" not in str(coord[1])):\n",
    "        folium.CircleMarker(location=[coord[0],coord[1]], radius=1,color='red', popup=[\"SSID:\", coord[2]]).add_to(mymap)\n",
    "mymap.save('biglot.html')  # saves to html file for display below"
   ]
  },
  {
   "cell_type": "code",
   "execution_count": 5,
   "metadata": {},
   "outputs": [
    {
     "data": {
      "text/html": [
       "<iframe width=\"60%\" height=\"450\" src=\"biglot.html\" ></iframe>\n"
      ],
      "text/plain": [
       "<IPython.core.display.HTML object>"
      ]
     },
     "metadata": {},
     "output_type": "display_data"
    }
   ],
   "source": [
    "%%HTML\n",
    "<iframe width=\"60%\" height=\"450\" src=\"biglot.html\" ></iframe>"
   ]
  },
  {
   "cell_type": "code",
   "execution_count": null,
   "metadata": {},
   "outputs": [],
   "source": []
  },
  {
   "cell_type": "code",
   "execution_count": null,
   "metadata": {},
   "outputs": [],
   "source": []
  },
  {
   "cell_type": "code",
   "execution_count": null,
   "metadata": {},
   "outputs": [],
   "source": []
  },
  {
   "cell_type": "code",
   "execution_count": null,
   "metadata": {},
   "outputs": [],
   "source": []
  },
  {
   "cell_type": "code",
   "execution_count": null,
   "metadata": {},
   "outputs": [],
   "source": []
  },
  {
   "cell_type": "code",
   "execution_count": null,
   "metadata": {},
   "outputs": [],
   "source": []
  }
 ],
 "metadata": {
  "kernelspec": {
   "display_name": "Python 3.9.12 ('War')",
   "language": "python",
   "name": "python3"
  },
  "language_info": {
   "codemirror_mode": {
    "name": "ipython",
    "version": 3
   },
   "file_extension": ".py",
   "mimetype": "text/x-python",
   "name": "python",
   "nbconvert_exporter": "python",
   "pygments_lexer": "ipython3",
   "version": "3.9.12"
  },
  "orig_nbformat": 4,
  "vscode": {
   "interpreter": {
    "hash": "59e7b997068fbbef25193dc4c9656cd9327c8286d3114e5d3a120fde696a1682"
   }
  }
 },
 "nbformat": 4,
 "nbformat_minor": 2
}
